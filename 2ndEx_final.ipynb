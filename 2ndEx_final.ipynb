{
 "cells": [
  {
   "cell_type": "code",
   "execution_count": 1,
   "id": "46c08809-51a8-43b5-9573-f86a1d741a0e",
   "metadata": {},
   "outputs": [],
   "source": [
    "import sympy as sp"
   ]
  },
  {
   "cell_type": "code",
   "execution_count": 2,
   "id": "25478f99-9dc4-4057-b68f-da76a86e960d",
   "metadata": {},
   "outputs": [],
   "source": [
    "x = sp.symbols('x')\n",
    "k0 = sp.symbols('k0' , postive = True)\n",
    "u = sp.Function('u')\n",
    "I = sp.symbols('i')"
   ]
  },
  {
   "cell_type": "code",
   "execution_count": 3,
   "id": "139b7dcb-3a70-42ef-a5f9-11a52b68a0c0",
   "metadata": {},
   "outputs": [
    {
     "data": {
      "text/latex": [
       "$\\displaystyle k_{0}^{2} u{\\left(x \\right)} + \\frac{d^{2}}{d x^{2}} u{\\left(x \\right)} = 0$"
      ],
      "text/plain": [
       "Eq(k0**2*u(x) + Derivative(u(x), (x, 2)), 0)"
      ]
     },
     "metadata": {},
     "output_type": "display_data"
    },
    {
     "data": {
      "text/latex": [
       "$\\displaystyle u{\\left(x \\right)} = C_{1} e^{- i k_{0} x} + C_{2} e^{i k_{0} x}$"
      ],
      "text/plain": [
       "Eq(u(x), C1*exp(-I*k0*x) + C2*exp(I*k0*x))"
      ]
     },
     "metadata": {},
     "output_type": "display_data"
    }
   ],
   "source": [
    "dif_func = sp.Eq(u(x).diff(x, x) + (k0**2) * u(x), 0)\n",
    "display(dif_func)\n",
    "sol = sp.dsolve(dif_func, u(x))\n",
    "display(sol)"
   ]
  },
  {
   "cell_type": "code",
   "execution_count": 4,
   "id": "0635f933-8603-4ff1-aca7-e3e85153be3f",
   "metadata": {
    "scrolled": true
   },
   "outputs": [
    {
     "data": {
      "text/latex": [
       "$\\displaystyle u{\\left(x \\right)} = 2 i C_{2} \\sin{\\left(k_{0} x \\right)}$"
      ],
      "text/plain": [
       "Eq(u(x), 2*I*C2*sin(k0*x))"
      ]
     },
     "metadata": {},
     "output_type": "display_data"
    }
   ],
   "source": [
    "sol_0 = sp.dsolve(dif_func, u(x),\n",
    "                  ics={u(0): 0})\n",
    "rhs_sol = sol_0.rhs\n",
    "trig_u = rhs_sol.rewrite(sp.sin).expand()\n",
    "trig_sol = sp.Eq(u(x), trig_u)\n",
    "display(trig_sol)"
   ]
  },
  {
   "cell_type": "markdown",
   "id": "e4f94bc5-d952-4895-9ecd-320b2d234c60",
   "metadata": {},
   "source": [
    "Εδώ, η λύση συνέχιζε να έρχεται σε εκθετική μορφή του e μέσω της ταυτότητας του Euler. Για να είναι πιο ταιριαστό με την μορφή στην ερώτηση 2             ( u(x) = Bsin(k0x) ) έκανα την μετατροπή για το δεξί μέρος (rhs) ώστε να ανόιξει η ταυτότητα και να μου συμμαζέψει το αποτέλεσμα. "
   ]
  },
  {
   "cell_type": "markdown",
   "id": "ccac92d4-dfcd-45f2-a713-9a344f9bd5c1",
   "metadata": {},
   "source": [
    "Για k0<0, με το k0 να είναι στο τετράγωνο μέσα στην αρχική εξίσωση, το αποτέλσμα θα παραμείνει το ίδιο. Όσον αφορά το ημίτονο των αρχικών τιμών τώρα, αν k0' = -k0 => sin(k0') = sin(-k0) = -sin(k0) κάτι το οποίο μπορούμε να μεταφέρουμε στην σταθερά C2 και να έχουμε ουσιαστικά C2' δηλαδή την ίδια ακριβώς μορφή."
   ]
  },
  {
   "cell_type": "code",
   "execution_count": 7,
   "id": "a9444460-a774-4d01-85d3-290c0fd3abeb",
   "metadata": {},
   "outputs": [
    {
     "data": {
      "text/latex": [
       "$\\displaystyle B \\sin{\\left(L k_{0} \\right)} = 0$"
      ],
      "text/plain": [
       "Eq(B*sin(L*k0), 0)"
      ]
     },
     "metadata": {},
     "output_type": "display_data"
    },
    {
     "data": {
      "text/latex": [
       "$\\displaystyle \\left\\{k_{0}\\; \\middle|\\; k_{0} \\in \\left\\{\\frac{2 n \\pi}{L}\\; \\middle|\\; n \\in \\mathbb{Z}\\right\\} \\cup \\left\\{\\frac{2 n \\pi + \\pi}{L}\\; \\middle|\\; n \\in \\mathbb{Z}\\right\\} \\wedge L \\neq 0 \\right\\}$"
      ],
      "text/plain": [
       "ConditionSet(k0, Ne(L, 0), Union(ImageSet(Lambda(_n, (2*_n*pi + pi)/L), Integers), ImageSet(Lambda(_n, 2*_n*pi/L), Integers)))"
      ]
     },
     "metadata": {},
     "output_type": "display_data"
    }
   ],
   "source": [
    "B = sp.symbols('B', nonzero=True)\n",
    "L = sp.symbols('L') \n",
    "u_x = B * sp.sin(k0*x)\n",
    "u_x_eq = sp.Eq(u_x.subs(x, L),0)\n",
    "display(u_x_eq)\n",
    "\n",
    "sol_u_L = sp.solveset(u_x_eq, k0)\n",
    "display(sol_u_L)"
   ]
  },
  {
   "cell_type": "markdown",
   "id": "106e5dac-851d-431c-a869-6fabf36a0b30",
   "metadata": {},
   "source": [
    "Η απάντηση φαίνεται να είναι σε άλλη μορφή, παρόλα αυτά είναι ακριβώς ισοδύναμη καθώς η αριστερή μεριά του συνόλου αναφέρεται στα άρτια πολλαπλάσια του π/L ενώ η δεξιά μεριά αναφέρεται στα περιττά πολλαπλάσια του π/L. Συνοπτικά, όλο το διάστημα είναι mπ/L όπου m οποιοσδήποτε αριθμός >1. "
   ]
  },
  {
   "cell_type": "markdown",
   "id": "982b9e1b-3a84-4565-b78f-8e2073a34421",
   "metadata": {},
   "source": [
    "Εδω πέρα η εντολή solveset έχει μεγαλύτερο νόημα από την απλή solve. Η solve επιστρέφει μεν μια λίστα αποτελεσμάτων, αλλά όπως φαίνεται και δοκιμάζοντάς την, επιστρέφει μόνο τις κύριες λύσεις και όχι όλοκληρο το σύνολο. Αντίθετα η solveset επιστρέφει όλο το σύνολο των άπειρων τιμών k0 μιας περιοδικής συνάρτησης, όπως εδώ η sin, εκφράζοντες τες ως ακέραιες παραμέτρους. Συνεπώς εδώ είναι προτιμότερη η solveset."
   ]
  },
  {
   "cell_type": "code",
   "execution_count": 10,
   "id": "4134d5f1-260f-4f40-befe-a79224877c35",
   "metadata": {},
   "outputs": [
    {
     "data": {
      "text/latex": [
       "$\\displaystyle B \\sin{\\left(\\frac{\\pi n x}{L} \\right)}$"
      ],
      "text/plain": [
       "B*sin(pi*n*x/L)"
      ]
     },
     "metadata": {},
     "output_type": "display_data"
    },
    {
     "data": {
      "text/latex": [
       "$\\displaystyle \\frac{\\pi^{2} \\hbar^{2} n^{2}}{2 L^{2} m}$"
      ],
      "text/plain": [
       "pi**2*hbar**2*n**2/(2*L**2*m)"
      ]
     },
     "metadata": {},
     "output_type": "display_data"
    }
   ],
   "source": [
    "n = sp.symbols('n', integer=True, positive=True)\n",
    "m = sp.symbols('m', positive=True)\n",
    "hbar_s = sp.symbols('hbar')\n",
    "\n",
    "k0_val = n*sp.pi/L\n",
    "u_n = B*sp.sin(k0_val*x)\n",
    "display(u_n)\n",
    "\n",
    "En = (n**2 * sp.pi**2 * hbar_s**2)/(2*m*L**2) \n",
    "display(En)"
   ]
  },
  {
   "cell_type": "code",
   "execution_count": 11,
   "id": "dcbdf9dd-7631-4eae-85a8-6913e4d2e0d1",
   "metadata": {},
   "outputs": [
    {
     "data": {
      "text/latex": [
       "$\\displaystyle \\frac{L}{2}$"
      ],
      "text/plain": [
       "L/2"
      ]
     },
     "metadata": {},
     "output_type": "display_data"
    },
    {
     "data": {
      "text/latex": [
       "$\\displaystyle \\frac{B^{2} L}{2} = 1$"
      ],
      "text/plain": [
       "Eq(B**2*L/2, 1)"
      ]
     },
     "metadata": {},
     "output_type": "display_data"
    },
    {
     "data": {
      "text/plain": [
       "[-sqrt(2)*sqrt(1/L), sqrt(2)*sqrt(1/L)]"
      ]
     },
     "metadata": {},
     "output_type": "display_data"
    }
   ],
   "source": [
    "L = sp.symbols('L', nonzero=True)\n",
    "intg = (sp.sin(n*sp.pi*x / L)**2)\n",
    "intg_val = sp.integrate(intg, (x, 0, L))\n",
    "display(intg_val)\n",
    "\n",
    "norm = sp.Eq(B**2 * intg_val, 1)\n",
    "display(norm)\n",
    "\n",
    "B_val = sp.solve(norm, B)\n",
    "display(B_val)"
   ]
  },
  {
   "cell_type": "code",
   "execution_count": 12,
   "id": "d9a31158-fbf9-498c-9da7-42c7be6d9736",
   "metadata": {},
   "outputs": [],
   "source": [
    "def B_proof (L, n): \n",
    "    x_p = sp.symbols('x')\n",
    "    B_p = sp.symbols('B')\n",
    "    n_p = sp.symbols('n', integer=True, positive=True)\n",
    "    L_p = sp.symbols('L', positive=True)\n",
    "    u_n_x_1 = B_p * sp.sin(n_p*sp.pi*x_p / L_p)\n",
    "    integr_u = u_n_x_1**2 / B_p**2\n",
    "    integr_sol = sp.integrate(integr_u, (x_p, 0, L_p))\n",
    "    \n",
    "    if integr_sol == L_p/2:\n",
    "     print('The integral is L/2')\n",
    "     corr_int = integr_sol\n",
    "    else: \n",
    "     corr_int = L_p/2\n",
    "\n",
    "    norm = sp.Eq(B_p**2 * corr_int, 1)\n",
    "    B_proof_val = sp.solve(norm, B_p)\n",
    "\n",
    "    return B_proof_val"
   ]
  },
  {
   "cell_type": "code",
   "execution_count": 13,
   "id": "3737f5bb-71d4-4116-9512-10caabc736f8",
   "metadata": {},
   "outputs": [
    {
     "name": "stdout",
     "output_type": "stream",
     "text": [
      "The integral is L/2\n"
     ]
    },
    {
     "data": {
      "text/plain": [
       "[-sqrt(2)/sqrt(L), sqrt(2)/sqrt(L)]"
      ]
     },
     "execution_count": 13,
     "metadata": {},
     "output_type": "execute_result"
    }
   ],
   "source": [
    "B_proof(L, n)"
   ]
  },
  {
   "cell_type": "markdown",
   "id": "d01e999b-859d-46c0-b1ec-e71afa9e1029",
   "metadata": {},
   "source": [
    "Με το function φαίνεται ότι οι τιμές του Β είναι σωστές καθώς και ότι είναι ανεξάρτητες του n (έχουν μόνη παράμετρο το L)"
   ]
  },
  {
   "cell_type": "code",
   "execution_count": 15,
   "id": "cf316f70-5a1b-4bce-8c0f-bff82be16a9b",
   "metadata": {
    "scrolled": true
   },
   "outputs": [
    {
     "name": "stdout",
     "output_type": "stream",
     "text": [
      "u = \n"
     ]
    },
    {
     "data": {
      "text/latex": [
       "$\\displaystyle \\sqrt{2} \\sqrt{\\frac{1}{L}} \\sin{\\left(\\frac{\\pi x}{L} \\right)}$"
      ],
      "text/plain": [
       "sqrt(2)*sqrt(1/L)*sin(pi*x/L)"
      ]
     },
     "metadata": {},
     "output_type": "display_data"
    },
    {
     "name": "stdout",
     "output_type": "stream",
     "text": [
      "En = \n"
     ]
    },
    {
     "data": {
      "text/latex": [
       "$\\displaystyle \\frac{\\pi^{2} \\hbar^{2}}{2 L^{2} m}$"
      ],
      "text/plain": [
       "pi**2*hbar**2/(2*L**2*m)"
      ]
     },
     "metadata": {},
     "output_type": "display_data"
    },
    {
     "name": "stdout",
     "output_type": "stream",
     "text": [
      "u = \n"
     ]
    },
    {
     "data": {
      "text/latex": [
       "$\\displaystyle \\sqrt{2} \\sqrt{\\frac{1}{L}} \\sin{\\left(\\frac{2 \\pi x}{L} \\right)}$"
      ],
      "text/plain": [
       "sqrt(2)*sqrt(1/L)*sin(2*pi*x/L)"
      ]
     },
     "metadata": {},
     "output_type": "display_data"
    },
    {
     "name": "stdout",
     "output_type": "stream",
     "text": [
      "En = \n"
     ]
    },
    {
     "data": {
      "text/latex": [
       "$\\displaystyle \\frac{2 \\pi^{2} \\hbar^{2}}{L^{2} m}$"
      ],
      "text/plain": [
       "2*pi**2*hbar**2/(L**2*m)"
      ]
     },
     "metadata": {},
     "output_type": "display_data"
    },
    {
     "name": "stdout",
     "output_type": "stream",
     "text": [
      "u = \n"
     ]
    },
    {
     "data": {
      "text/latex": [
       "$\\displaystyle \\sqrt{2} \\sqrt{\\frac{1}{L}} \\sin{\\left(\\frac{3 \\pi x}{L} \\right)}$"
      ],
      "text/plain": [
       "sqrt(2)*sqrt(1/L)*sin(3*pi*x/L)"
      ]
     },
     "metadata": {},
     "output_type": "display_data"
    },
    {
     "name": "stdout",
     "output_type": "stream",
     "text": [
      "En = \n"
     ]
    },
    {
     "data": {
      "text/latex": [
       "$\\displaystyle \\frac{9 \\pi^{2} \\hbar^{2}}{2 L^{2} m}$"
      ],
      "text/plain": [
       "9*pi**2*hbar**2/(2*L**2*m)"
      ]
     },
     "metadata": {},
     "output_type": "display_data"
    },
    {
     "name": "stdout",
     "output_type": "stream",
     "text": [
      "u = \n"
     ]
    },
    {
     "data": {
      "text/latex": [
       "$\\displaystyle \\sqrt{2} \\sqrt{\\frac{1}{L}} \\sin{\\left(\\frac{4 \\pi x}{L} \\right)}$"
      ],
      "text/plain": [
       "sqrt(2)*sqrt(1/L)*sin(4*pi*x/L)"
      ]
     },
     "metadata": {},
     "output_type": "display_data"
    },
    {
     "name": "stdout",
     "output_type": "stream",
     "text": [
      "En = \n"
     ]
    },
    {
     "data": {
      "text/latex": [
       "$\\displaystyle \\frac{8 \\pi^{2} \\hbar^{2}}{L^{2} m}$"
      ],
      "text/plain": [
       "8*pi**2*hbar**2/(L**2*m)"
      ]
     },
     "metadata": {},
     "output_type": "display_data"
    }
   ],
   "source": [
    "B_final = sp.sqrt(2/L)\n",
    "\n",
    "un_norm = B_final * sp.sin(n*sp.pi*x/L)\n",
    "\n",
    "for n_val in [1, 2, 3, 4]:\n",
    " un_val = un_norm.subs(n, n_val)\n",
    " En_val = En.subs(n, n_val)\n",
    " print(\"u = \")\n",
    " display(un_val)\n",
    " print(\"En = \")   \n",
    " display(En_val)"
   ]
  },
  {
   "cell_type": "code",
   "execution_count": 16,
   "id": "9409ba20-6e8c-4505-99cb-204017b02cbc",
   "metadata": {},
   "outputs": [
    {
     "data": {
      "text/latex": [
       "$\\displaystyle 1$"
      ],
      "text/plain": [
       "1"
      ]
     },
     "metadata": {},
     "output_type": "display_data"
    },
    {
     "data": {
      "text/latex": [
       "$\\displaystyle 0$"
      ],
      "text/plain": [
       "0"
      ]
     },
     "metadata": {},
     "output_type": "display_data"
    },
    {
     "data": {
      "text/latex": [
       "$\\displaystyle 0$"
      ],
      "text/plain": [
       "0"
      ]
     },
     "metadata": {},
     "output_type": "display_data"
    },
    {
     "data": {
      "text/latex": [
       "$\\displaystyle 0$"
      ],
      "text/plain": [
       "0"
      ]
     },
     "metadata": {},
     "output_type": "display_data"
    },
    {
     "data": {
      "text/latex": [
       "$\\displaystyle 0$"
      ],
      "text/plain": [
       "0"
      ]
     },
     "metadata": {},
     "output_type": "display_data"
    },
    {
     "data": {
      "text/latex": [
       "$\\displaystyle 1$"
      ],
      "text/plain": [
       "1"
      ]
     },
     "metadata": {},
     "output_type": "display_data"
    },
    {
     "data": {
      "text/latex": [
       "$\\displaystyle 0$"
      ],
      "text/plain": [
       "0"
      ]
     },
     "metadata": {},
     "output_type": "display_data"
    },
    {
     "data": {
      "text/latex": [
       "$\\displaystyle 0$"
      ],
      "text/plain": [
       "0"
      ]
     },
     "metadata": {},
     "output_type": "display_data"
    },
    {
     "data": {
      "text/latex": [
       "$\\displaystyle 0$"
      ],
      "text/plain": [
       "0"
      ]
     },
     "metadata": {},
     "output_type": "display_data"
    },
    {
     "data": {
      "text/latex": [
       "$\\displaystyle 0$"
      ],
      "text/plain": [
       "0"
      ]
     },
     "metadata": {},
     "output_type": "display_data"
    },
    {
     "data": {
      "text/latex": [
       "$\\displaystyle 1$"
      ],
      "text/plain": [
       "1"
      ]
     },
     "metadata": {},
     "output_type": "display_data"
    },
    {
     "data": {
      "text/latex": [
       "$\\displaystyle 0$"
      ],
      "text/plain": [
       "0"
      ]
     },
     "metadata": {},
     "output_type": "display_data"
    },
    {
     "data": {
      "text/latex": [
       "$\\displaystyle 0$"
      ],
      "text/plain": [
       "0"
      ]
     },
     "metadata": {},
     "output_type": "display_data"
    },
    {
     "data": {
      "text/latex": [
       "$\\displaystyle 0$"
      ],
      "text/plain": [
       "0"
      ]
     },
     "metadata": {},
     "output_type": "display_data"
    },
    {
     "data": {
      "text/latex": [
       "$\\displaystyle 0$"
      ],
      "text/plain": [
       "0"
      ]
     },
     "metadata": {},
     "output_type": "display_data"
    },
    {
     "data": {
      "text/latex": [
       "$\\displaystyle 1$"
      ],
      "text/plain": [
       "1"
      ]
     },
     "metadata": {},
     "output_type": "display_data"
    }
   ],
   "source": [
    "n_values = [1, 2, 3, 4]\n",
    "\n",
    "\n",
    "for n_orth in n_values:\n",
    "    for m_orth in n_values:\n",
    "     un_m = un_norm.subs(n, m_orth)\n",
    "     un_n = un_norm.subs(n, n_orth)\n",
    "     un_ortho = un_m*un_n \n",
    "     un_nm = sp.integrate(un_ortho, (x, 0, L))    \n",
    "     display(un_nm)"
   ]
  },
  {
   "cell_type": "markdown",
   "id": "0e0b8ddc-c1fc-4590-accf-156ee736becc",
   "metadata": {},
   "source": [
    "Οι βάσεις μας είναι όντως ορθοκανονικές. Δεδεομένου ότι πρώτα η λούπα for για το n παίρνει τιμή (πχ = 1) και στη συνέχεια τρέχουν όλες οι εσωτερικές λούπες της m (1 εώς 4) (και ως εξής, παίρνει τιμή 2 η πρώτη λούπα n, τρέχουν όλες οι εσωτερικές m και μετά προχωράει ξανά), η σειρά πηγαίνει 1-1, 1-2, 1-3, 1-4, 2-1, 2-2 κλπ. Η ορθοκανονικότητα ορίζεται για ίδια m,n ίση με 1 και για διαφορετικά ίση με το 0 και συνεπώς είναι ακριβώς αυτό που παίρνουμε."
   ]
  },
  {
   "cell_type": "code",
   "execution_count": null,
   "id": "f5442589-ae8f-42a9-af29-9252d72a3bfd",
   "metadata": {},
   "outputs": [],
   "source": []
  }
 ],
 "metadata": {
  "kernelspec": {
   "display_name": "Python [conda env:base] *",
   "language": "python",
   "name": "conda-base-py"
  },
  "language_info": {
   "codemirror_mode": {
    "name": "ipython",
    "version": 3
   },
   "file_extension": ".py",
   "mimetype": "text/x-python",
   "name": "python",
   "nbconvert_exporter": "python",
   "pygments_lexer": "ipython3",
   "version": "3.12.3"
  }
 },
 "nbformat": 4,
 "nbformat_minor": 5
}
